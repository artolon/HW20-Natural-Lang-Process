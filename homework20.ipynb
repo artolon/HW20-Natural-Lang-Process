{
 "cells": [
  {
   "cell_type": "markdown",
   "id": "e60175f8",
   "metadata": {},
   "source": [
    "# Week 20: Natural Language Processing\n",
    "### February 10, 2022"
   ]
  },
  {
   "cell_type": "markdown",
   "id": "37a6b642",
   "metadata": {},
   "source": [
    "**1.\tWrite a python program (not a Jupyter notebook, but a py file you run from the command line) that accepts the cats_txt.txt file as input and counts the frequency of all words and punctuation in that text file, ordered by frequency. Make sure to handle capital and lowercase versions of words and count them together.**"
   ]
  },
  {
   "cell_type": "markdown",
   "id": "b80c861b",
   "metadata": {},
   "source": [
    "**2.\tDocument how to run the program you created in question 1 in a readme.md file in your repo. Be as clear as possible. Use proper markdown, and consider using screenshots. Be sure to briefly discuss why this kind of exercise might be helpful for NLP in your markdown.** "
   ]
  },
  {
   "cell_type": "markdown",
   "id": "c592be78",
   "metadata": {},
   "source": [
    "### In a Jupyter notebook: \n",
    "\n",
    "**3.\tLoad the tokenized Paradise Lost from the Gutenberg Corpus in NLTK.* https://www.nltk.org/book/ch02.html . Stem or lemmatize the words and find counts. Select the top 20 words and create a histogram. Exclude stop words and make sure you are including words of all capitalizations in your count. If there are any meaningless “words” (“thus” and single letters, etc.) that are produced in your list or top words, alter your logic to exclude them. Specify why you chose stemming or lemmatization.** "
   ]
  },
  {
   "cell_type": "code",
   "execution_count": 1,
   "id": "0cd59414",
   "metadata": {},
   "outputs": [
    {
     "name": "stdout",
     "output_type": "stream",
     "text": [
      "['[', 'Paradise', 'Lost', 'by', 'John', 'Milton', ...]\n"
     ]
    }
   ],
   "source": [
    "# Import libraries\n",
    "import nltk\n",
    "from nltk.stem import WordNetLemmatizer\n",
    "from nltk.stem.snowball import SnowballStemmer\n",
    "from nltk.sentiment.vader import SentimentIntensityAnalyzer\n",
    "from collections import Counter\n",
    "import matplotlib.pyplot as plt\n",
    "import seaborn as sns\n",
    "import pandas as pd\n",
    "\n",
    "# Get words from Paradise lost\n",
    "lost_words = nltk.corpus.gutenberg.words('milton-paradise.txt')\n",
    "# View the first few words\n",
    "print(lost_words)"
   ]
  },
  {
   "cell_type": "markdown",
   "id": "e91017dd",
   "metadata": {},
   "source": [
    "Before diving in, I wanted to apply *both* lemmatization and stemming to a subset of words. I wanted to print those results and compare them to the original. This helps provide a better sense of their differences.\n",
    "\n",
    "I experimented with a few different subsets of text. I decided to use the stemmer because (as the same suggests) this was shortening more words to their base (for example, \"heavenly\" to \"heaven\"). Contrastingly, the lemmatizer was keeping the full word, including capitalization. When it comes to the analysis of top 20 words, I am personally not as interested in the nuance that lemmatizing provides. I would rather see the base meaning of the word (i.e. I was words like \"heavenly\" and \"heaven\" to count the same). "
   ]
  },
  {
   "cell_type": "code",
   "execution_count": 18,
   "id": "0af6d4cb",
   "metadata": {},
   "outputs": [],
   "source": [
    "# Instantiate the word lemmatizer\n",
    "lemmatizer = WordNetLemmatizer()\n",
    "# Instantiate the word stemmer\n",
    "stemmer = SnowballStemmer(language='english')"
   ]
  },
  {
   "cell_type": "code",
   "execution_count": 19,
   "id": "bf005d4d",
   "metadata": {},
   "outputs": [
    {
     "name": "stdout",
     "output_type": "stream",
     "text": [
      "['and', 'regain', 'the', 'blissful', 'seat', ',', 'Sing', ',', 'Heavenly', 'Muse', ',', 'that', ',', 'on', 'the', 'secret', 'top', 'Of', 'Oreb', ',', 'or', 'of', 'Sinai', ',', 'didst', 'inspire', 'That', 'shepherd', 'who', 'first', 'taught', 'the', 'chosen', 'seed', 'In', 'the', 'beginning', 'how', 'the', 'heavens', 'and', 'earth', 'Rose', 'out', 'of', 'Chaos', ':', 'or', ',', 'if']\n",
      "['and', 'regain', 'the', 'blissful', 'seat', ',', 'Sing', ',', 'Heavenly', 'Muse', ',', 'that', ',', 'on', 'the', 'secret', 'top', 'Of', 'Oreb', ',', 'or', 'of', 'Sinai', ',', 'didst', 'inspire', 'That', 'shepherd', 'who', 'first', 'taught', 'the', 'chosen', 'seed', 'In', 'the', 'beginning', 'how', 'the', 'heaven', 'and', 'earth', 'Rose', 'out', 'of', 'Chaos', ':', 'or', ',', 'if']\n",
      "['and', 'regain', 'the', 'bliss', 'seat', ',', 'sing', ',', 'heaven', 'muse', ',', 'that', ',', 'on', 'the', 'secret', 'top', 'of', 'oreb', ',', 'or', 'of', 'sinai', ',', 'didst', 'inspir', 'that', 'shepherd', 'who', 'first', 'taught', 'the', 'chosen', 'seed', 'in', 'the', 'begin', 'how', 'the', 'heaven', 'and', 'earth', 'rose', 'out', 'of', 'chao', ':', 'or', ',', 'if']\n"
     ]
    }
   ],
   "source": [
    "# Create a subset of words to run some code and see what it looks like\n",
    "sub = lost_words[50:100]\n",
    "print(sub)\n",
    "# See how lemmatizer works\n",
    "sub_lem = [lemmatizer.lemmatize(word) for word in sub]\n",
    "print(sub_lem)\n",
    "# See how stemmer works\n",
    "sub_stem = [stemmer.stem(word) for word in sub]\n",
    "print(sub_stem)"
   ]
  },
  {
   "cell_type": "markdown",
   "id": "a1d212bd",
   "metadata": {},
   "source": [
    "Now, I will apply stemming to all of the words in Paradise Lost, rather than just the subset. In order to do that, I will first need to lowercase all of the words, ensure everything is alpha (not numeric), and then remove the stop words."
   ]
  },
  {
   "cell_type": "code",
   "execution_count": 44,
   "id": "c5b36221",
   "metadata": {},
   "outputs": [],
   "source": [
    "# List of additional stop words that I want to remove from analysis\n",
    "old_english = ['thou', 'thy', 'thee', 'thus', 'shall', 'yet', 'though', 'may', 'till']"
   ]
  },
  {
   "cell_type": "code",
   "execution_count": 46,
   "id": "948126b4",
   "metadata": {},
   "outputs": [
    {
     "name": "stdout",
     "output_type": "stream",
     "text": [
      "[('heaven', 485), ('god', 316), ('earth', 228), ('us', 187), ('man', 178), ('first', 175), ('high', 159), ('day', 157), ('one', 142), ('power', 133), ('like', 132), ('son', 132), ('great', 130), ('far', 129), ('death', 127), ('world', 122), ('light', 122), ('good', 122), ('hell', 119), ('night', 117)]\n"
     ]
    }
   ],
   "source": [
    "# Ensure everything is lower case\n",
    "lost_low = [word.lower() for word in lost_words]\n",
    "\n",
    "# Ensure everything is alpha only\n",
    "lost_alpha = [word for word in lost_low if word.isalpha()]\n",
    "\n",
    "# Define the stop words\n",
    "english_stops = set(nltk.corpus.stopwords.words('english'))\n",
    "\n",
    "# Remove the stop words\n",
    "lost_stop = [word for word in lost_alpha if word not in english_stops and word not in old_english]\n",
    "\n",
    "# Iterate through the entire text and stem the words in a new list called \"lost_stem\"\n",
    "lost_stem = [stemmer.stem(word) for word in lost_stop]\n",
    "\n",
    "# Count all of the words\n",
    "lost_count = Counter(lost_stem)\n",
    "\n",
    "# Print the 20 most common words\n",
    "lost20 = lost_count.most_common(20)\n",
    "print(lost20)"
   ]
  },
  {
   "cell_type": "code",
   "execution_count": 57,
   "id": "66ff7b97",
   "metadata": {},
   "outputs": [
    {
     "data": {
      "image/png": "[encoded data removed]",
      "text/plain": [
       "<Figure size 1224x504 with 1 Axes>"
      ]
     },
     "metadata": {
      "needs_background": "light"
     },
     "output_type": "display_data"
    }
   ],
   "source": [
    "# Unpack the tuples\n",
    "word, count = zip(*lost20)\n",
    "\n",
    "# Set up figure size\n",
    "fig = plt.figure(figsize = (17,7))\n",
    "# Plot word and count\n",
    "plt.bar(word, count)\n",
    "# Set up the labels\n",
    "plt.xlabel('')\n",
    "plt.ylabel('Count')\n",
    "plt.title('Most Common Words in Paradise Lost')\n",
    "# Show plot\n",
    "plt.show()"
   ]
  },
  {
   "cell_type": "markdown",
   "id": "0bae8c10",
   "metadata": {},
   "source": [
    "**4.\tPerform Vader Sentiment Analysis on the book. Find the 5 most negative, 5 most positive, and 5 most neutral sentences in Paradise Lost*. http://www.nltk.org/howto/sentiment.html . This may take a while to run, so you can always start with a small subset of the data (100 sentences) and then once your code works as expected, expand it to the whole book and let it run.** "
   ]
  },
  {
   "cell_type": "markdown",
   "id": "7308dc1f",
   "metadata": {},
   "source": [
    "First, I need to extract all of the sentences from Paradise Lost. The output will be a list of lists. Each sub-list will contain words/\"tokens\" which comprise one sentence. "
   ]
  },
  {
   "cell_type": "code",
   "execution_count": 2,
   "id": "023a0f3a",
   "metadata": {},
   "outputs": [
    {
     "name": "stdout",
     "output_type": "stream",
     "text": [
      "[['[', 'Paradise', 'Lost', 'by', 'John', 'Milton', '1667', ']'], ['Book', 'I'], ['Of', 'Man', \"'\", 's', 'first', 'disobedience', ',', 'and', 'the', 'fruit', 'Of', 'that', 'forbidden', 'tree', 'whose', 'mortal', 'taste', 'Brought', 'death', 'into', 'the', 'World', ',', 'and', 'all', 'our', 'woe', ',', 'With', 'loss', 'of', 'Eden', ',', 'till', 'one', 'greater', 'Man', 'Restore', 'us', ',', 'and', 'regain', 'the', 'blissful', 'seat', ',', 'Sing', ',', 'Heavenly', 'Muse', ',', 'that', ',', 'on', 'the', 'secret', 'top', 'Of', 'Oreb', ',', 'or', 'of', 'Sinai', ',', 'didst', 'inspire', 'That', 'shepherd', 'who', 'first', 'taught', 'the', 'chosen', 'seed', 'In', 'the', 'beginning', 'how', 'the', 'heavens', 'and', 'earth', 'Rose', 'out', 'of', 'Chaos', ':', 'or', ',', 'if', 'Sion', 'hill', 'Delight', 'thee', 'more', ',', 'and', 'Siloa', \"'\", 's', 'brook', 'that', 'flowed', 'Fast', 'by', 'the', 'oracle', 'of', 'God', ',', 'I', 'thence', 'Invoke', 'thy', 'aid', 'to', 'my', 'adventurous', 'song', ',', 'That', 'with', 'no', 'middle', 'flight', 'intends', 'to', 'soar', 'Above', 'th', \"'\", 'Aonian', 'mount', ',', 'while', 'it', 'pursues', 'Things', 'unattempted', 'yet', 'in', 'prose', 'or', 'rhyme', '.'], ['And', 'chiefly', 'thou', ',', 'O', 'Spirit', ',', 'that', 'dost', 'prefer', 'Before', 'all', 'temples', 'th', \"'\", 'upright', 'heart', 'and', 'pure', ',', 'Instruct', 'me', ',', 'for', 'thou', 'know', \"'\", 'st', ';', 'thou', 'from', 'the', 'first', 'Wast', 'present', ',', 'and', ',', 'with', 'mighty', 'wings', 'outspread', ',', 'Dove', '-', 'like', 'sat', \"'\", 'st', 'brooding', 'on', 'the', 'vast', 'Abyss', ',', 'And', 'mad', \"'\", 'st', 'it', 'pregnant', ':', 'what', 'in', 'me', 'is', 'dark', 'Illumine', ',', 'what', 'is', 'low', 'raise', 'and', 'support', ';', 'That', ',', 'to', 'the', 'height', 'of', 'this', 'great', 'argument', ',', 'I', 'may', 'assert', 'Eternal', 'Providence', ',', 'And', 'justify', 'the', 'ways', 'of', 'God', 'to', 'men', '.'], ['Say', 'first', '--', 'for', 'Heaven', 'hides', 'nothing', 'from', 'thy', 'view', ',', 'Nor', 'the', 'deep', 'tract', 'of', 'Hell', '--', 'say', 'first', 'what', 'cause', 'Moved', 'our', 'grand', 'parents', ',', 'in', 'that', 'happy', 'state', ',', 'Favoured', 'of', 'Heaven', 'so', 'highly', ',', 'to', 'fall', 'off', 'From', 'their', 'Creator', ',', 'and', 'transgress', 'his', 'will', 'For', 'one', 'restraint', ',', 'lords', 'of', 'the', 'World', 'besides', '.'], ['Who', 'first', 'seduced', 'them', 'to', 'that', 'foul', 'revolt', '?'], ['Th', \"'\", 'infernal', 'Serpent', ';', 'he', 'it', 'was', 'whose', 'guile', ',', 'Stirred', 'up', 'with', 'envy', 'and', 'revenge', ',', 'deceived', 'The', 'mother', 'of', 'mankind', ',', 'what', 'time', 'his', 'pride', 'Had', 'cast', 'him', 'out', 'from', 'Heaven', ',', 'with', 'all', 'his', 'host', 'Of', 'rebel', 'Angels', ',', 'by', 'whose', 'aid', ',', 'aspiring', 'To', 'set', 'himself', 'in', 'glory', 'above', 'his', 'peers', ',', 'He', 'trusted', 'to', 'have', 'equalled', 'the', 'Most', 'High', ',', 'If', 'he', 'opposed', ',', 'and', 'with', 'ambitious', 'aim', 'Against', 'the', 'throne', 'and', 'monarchy', 'of', 'God', ',', 'Raised', 'impious', 'war', 'in', 'Heaven', 'and', 'battle', 'proud', ',', 'With', 'vain', 'attempt', '.'], ['Him', 'the', 'Almighty', 'Power', 'Hurled', 'headlong', 'flaming', 'from', 'th', \"'\", 'ethereal', 'sky', ',', 'With', 'hideous', 'ruin', 'and', 'combustion', ',', 'down', 'To', 'bottomless', 'perdition', ',', 'there', 'to', 'dwell', 'In', 'adamantine', 'chains', 'and', 'penal', 'fire', ',', 'Who', 'durst', 'defy', 'th', \"'\", 'Omnipotent', 'to', 'arms', '.'], ['Nine', 'times', 'the', 'space', 'that', 'measures', 'day', 'and', 'night', 'To', 'mortal', 'men', ',', 'he', ',', 'with', 'his', 'horrid', 'crew', ',', 'Lay', 'vanquished', ',', 'rolling', 'in', 'the', 'fiery', 'gulf', ',', 'Confounded', ',', 'though', 'immortal', '.'], ['But', 'his', 'doom', 'Reserved', 'him', 'to', 'more', 'wrath', ';', 'for', 'now', 'the', 'thought', 'Both', 'of', 'lost', 'happiness', 'and', 'lasting', 'pain', 'Torments', 'him', ':', 'round', 'he', 'throws', 'his', 'baleful', 'eyes', ',', 'That', 'witnessed', 'huge', 'affliction', 'and', 'dismay', ',', 'Mixed', 'with', 'obdurate', 'pride', 'and', 'steadfast', 'hate', '.']]\n"
     ]
    }
   ],
   "source": [
    "# Get sentences from Paradise lost\n",
    "lost_sents = nltk.corpus.gutenberg.sents('milton-paradise.txt')\n",
    "# Print only the first few sentences as a test\n",
    "print(lost_sents[:10])"
   ]
  },
  {
   "cell_type": "markdown",
   "id": "e849dbff",
   "metadata": {},
   "source": [
    "In order to properly analyze the sentences, we will need to paste the tokens back together. To do this, I need to iterate through the lists, join words together, and then remove the unwanted spaces. I will then append this to a *new* list. The *new* list will still be a giant list of lists. But each list will contain full *sentences,* rather than individual words."
   ]
  },
  {
   "cell_type": "code",
   "execution_count": 3,
   "id": "a9b9fad3",
   "metadata": {},
   "outputs": [],
   "source": [
    "# Put the words back into actual sentences\n",
    "\n",
    "# Empty list to append to\n",
    "sentence_list = []    \n",
    "\n",
    "# Iterate through the lists within sentences\n",
    "for i, word_list in enumerate(lost_sents):\n",
    "    # Concatenate the words together and remove spaces from punctuation\n",
    "    sentence = ' '.join(word_list).replace(' , ', ', ').replace(' : ', ': ').replace(\" ' \", \"'\").replace(\" ,'\", \",'\").replace(' ?', \"?\").replace(' .', '.').replace(' ;', ';').replace(\" !\", '!').replace('( ', '(').replace(' )', ')')\n",
    "    # append them to our empty list as a list (list of lists)\n",
    "    sentence_list.append([sentence])"
   ]
  },
  {
   "cell_type": "code",
   "execution_count": 4,
   "id": "024fd8ee",
   "metadata": {},
   "outputs": [
    {
     "name": "stdout",
     "output_type": "stream",
     "text": [
      "[\"Of Man's first disobedience, and the fruit Of that forbidden tree whose mortal taste Brought death into the World, and all our woe, With loss of Eden, till one greater Man Restore us, and regain the blissful seat, Sing, Heavenly Muse, that, on the secret top Of Oreb, or of Sinai, didst inspire That shepherd who first taught the chosen seed In the beginning how the heavens and earth Rose out of Chaos: or, if Sion hill Delight thee more, and Siloa's brook that flowed Fast by the oracle of God, I thence Invoke thy aid to my adventurous song, That with no middle flight intends to soar Above th'Aonian mount, while it pursues Things unattempted yet in prose or rhyme.\"]\n"
     ]
    }
   ],
   "source": [
    "# View a sample sentence\n",
    "print(sentence_list[2])"
   ]
  },
  {
   "cell_type": "code",
   "execution_count": 6,
   "id": "29ff629b",
   "metadata": {},
   "outputs": [],
   "source": [
    "# For code-testing purposes, extract a slice of sentences to view\n",
    "sample = sentence_list[:101]"
   ]
  },
  {
   "cell_type": "markdown",
   "id": "0c290e42",
   "metadata": {},
   "source": [
    "Now that I have the complete sentences, I can run the sentiment analysis! I will have to iterate through all of the sentences. While doing so, I will calculate the polarity score and append it to yet another list! The \"sentiments\" list will contain all of the polarity scores from each individual sentence. The output of \"sentiments\" will be one giant list of lists. And each nested list will contain a *dictionary* with the polarity results. "
   ]
  },
  {
   "cell_type": "code",
   "execution_count": 16,
   "id": "fea16a9e",
   "metadata": {},
   "outputs": [],
   "source": [
    "# Instantiate the sentiment analyzer\n",
    "sent = SentimentIntensityAnalyzer()\n",
    "\n",
    "# Where we will append our sentiments\n",
    "    # This will end up being a list of lists that each contain a dictionary...\n",
    "sentiment_list = []\n",
    "\n",
    "# iterate through the sample:\n",
    "# real deal now! Change sample to sentence_list\n",
    "for i, s in enumerate(sentence_list):\n",
    "    # list comprehension to get polarity scores for every sentence in the sample\n",
    "    polarity = [sent.polarity_scores(s) for s in sentence_list[i]]\n",
    "    # append the scores to the empty sentiment list\n",
    "    sentiment_list.append(polarity)"
   ]
  },
  {
   "cell_type": "markdown",
   "id": "c8ba1f16",
   "metadata": {},
   "source": [
    "To create a data frame, I need to transform my list of lists (with dictionaries) into *just* a list of dictionaries. Code below."
   ]
  },
  {
   "cell_type": "code",
   "execution_count": 19,
   "id": "12d83069",
   "metadata": {},
   "outputs": [
    {
     "data": {
      "text/html": [
       "<div>\n",
       "<style scoped>\n",
       "    .dataframe tbody tr th:only-of-type {\n",
       "        vertical-align: middle;\n",
       "    }\n",
       "\n",
       "    .dataframe tbody tr th {\n",
       "        vertical-align: top;\n",
       "    }\n",
       "\n",
       "    .dataframe thead th {\n",
       "        text-align: right;\n",
       "    }\n",
       "</style>\n",
       "<table border=\"1\" class=\"dataframe\">\n",
       "  <thead>\n",
       "    <tr style=\"text-align: right;\">\n",
       "      <th></th>\n",
       "      <th>neg</th>\n",
       "      <th>neu</th>\n",
       "      <th>pos</th>\n",
       "      <th>compound</th>\n",
       "    </tr>\n",
       "  </thead>\n",
       "  <tbody>\n",
       "    <tr>\n",
       "      <th>0</th>\n",
       "      <td>0.219</td>\n",
       "      <td>0.381</td>\n",
       "      <td>0.400</td>\n",
       "      <td>0.4404</td>\n",
       "    </tr>\n",
       "    <tr>\n",
       "      <th>1</th>\n",
       "      <td>0.000</td>\n",
       "      <td>1.000</td>\n",
       "      <td>0.000</td>\n",
       "      <td>0.0000</td>\n",
       "    </tr>\n",
       "    <tr>\n",
       "      <th>2</th>\n",
       "      <td>0.117</td>\n",
       "      <td>0.689</td>\n",
       "      <td>0.194</td>\n",
       "      <td>0.8885</td>\n",
       "    </tr>\n",
       "    <tr>\n",
       "      <th>3</th>\n",
       "      <td>0.054</td>\n",
       "      <td>0.771</td>\n",
       "      <td>0.175</td>\n",
       "      <td>0.8546</td>\n",
       "    </tr>\n",
       "    <tr>\n",
       "      <th>4</th>\n",
       "      <td>0.093</td>\n",
       "      <td>0.668</td>\n",
       "      <td>0.239</td>\n",
       "      <td>0.8689</td>\n",
       "    </tr>\n",
       "  </tbody>\n",
       "</table>\n",
       "</div>"
      ],
      "text/plain": [
       "     neg    neu    pos  compound\n",
       "0  0.219  0.381  0.400    0.4404\n",
       "1  0.000  1.000  0.000    0.0000\n",
       "2  0.117  0.689  0.194    0.8885\n",
       "3  0.054  0.771  0.175    0.8546\n",
       "4  0.093  0.668  0.239    0.8689"
      ]
     },
     "execution_count": 19,
     "metadata": {},
     "output_type": "execute_result"
    }
   ],
   "source": [
    "# We need to make this ONE list of dictionaries, rather than nested lists...\n",
    "\n",
    "# append dictionaries here\n",
    "dct_list = []\n",
    "\n",
    "# Iterate through the list of lists of dictionaries\n",
    "for score in sentiment_list:\n",
    "    # extract only the dictionaries from each list\n",
    "    for dct in score:\n",
    "        # append the dictionaries to new list\n",
    "        dct_list.append(dct)\n",
    "\n",
    "# Now, we can convert the dictionaries to a data frame\n",
    "polarity_df = pd.DataFrame(dct_list)\n",
    "# View sample data frame\n",
    "polarity_df.head()"
   ]
  },
  {
   "cell_type": "markdown",
   "id": "87616f6e",
   "metadata": {},
   "source": [
    "Finally, I will sort the polarity data frame by positive values (descending), so that we find the most positive results. I will limit the results to only 5. I will then extract the index and transform that into a list so that we can later use it for iterating. I'll repeat this for the negative and neutral columns as well. "
   ]
  },
  {
   "cell_type": "code",
   "execution_count": 27,
   "id": "abf15d6c",
   "metadata": {},
   "outputs": [
    {
     "name": "stdout",
     "output_type": "stream",
     "text": [
      "[605, 1441, 908, 828, 1233]\n",
      "      neg    neu    pos  compound\n",
      "605   0.0  0.000  1.000    0.5255\n",
      "1441  0.0  0.000  1.000    0.5562\n",
      "908   0.0  0.000  1.000    0.5255\n",
      "828   0.0  0.000  1.000    0.5562\n",
      "1233  0.0  0.162  0.838    0.9381\n"
     ]
    }
   ],
   "source": [
    "# Find the top 5 most positive lists\n",
    "pos_list = polarity_df.sort_values('pos', ascending=False).head(5).index.tolist()\n",
    "print(pos_list)\n",
    "\n",
    "print(polarity_df.sort_values('pos', ascending=False).head(5))"
   ]
  },
  {
   "cell_type": "code",
   "execution_count": 28,
   "id": "599e1d70",
   "metadata": {},
   "outputs": [
    {
     "name": "stdout",
     "output_type": "stream",
     "text": [
      "[153, 512, 1689, 478, 175]\n",
      "        neg    neu  pos  compound\n",
      "153   1.000  0.000  0.0   -0.3595\n",
      "512   1.000  0.000  0.0   -0.7088\n",
      "1689  1.000  0.000  0.0   -0.3382\n",
      "478   0.777  0.223  0.0   -0.5411\n",
      "175   0.772  0.228  0.0   -0.5255\n"
     ]
    }
   ],
   "source": [
    "# Find the top 5 most negatives lists\n",
    "neg_list = polarity_df.sort_values('neg', ascending=False).head(5).index.tolist()\n",
    "print(neg_list)\n",
    "\n",
    "print(polarity_df.sort_values('neg', ascending=False).head(5))"
   ]
  },
  {
   "cell_type": "code",
   "execution_count": 29,
   "id": "d6acc531",
   "metadata": {},
   "outputs": [
    {
     "name": "stdout",
     "output_type": "stream",
     "text": [
      "[1850, 515, 555, 550, 1398]\n",
      "      neg  neu  pos  compound\n",
      "1850  0.0  1.0  0.0       0.0\n",
      "515   0.0  1.0  0.0       0.0\n",
      "555   0.0  1.0  0.0       0.0\n",
      "550   0.0  1.0  0.0       0.0\n",
      "1398  0.0  1.0  0.0       0.0\n"
     ]
    }
   ],
   "source": [
    "# Find the top 5 most neutral lists\n",
    "neu_list = polarity_df.sort_values('neu', ascending=False).head(5).index.tolist()\n",
    "print(neu_list)\n",
    "\n",
    "print(polarity_df.sort_values('neu', ascending=False).head(5))"
   ]
  },
  {
   "cell_type": "markdown",
   "id": "fc1fdbb2",
   "metadata": {},
   "source": [
    "Now, use the above index values to extract the corresponding sentences from Paradise Lost."
   ]
  },
  {
   "cell_type": "markdown",
   "id": "cd985a5a",
   "metadata": {},
   "source": [
    "**Most Positive Sentences in Paradise Lost**"
   ]
  },
  {
   "cell_type": "code",
   "execution_count": 24,
   "id": "929fba35",
   "metadata": {},
   "outputs": [
    {
     "name": "stdout",
     "output_type": "stream",
     "text": [
      "['O friends!']\n",
      "['O Heaven!']\n",
      "['O Friends!']\n",
      "['O Heaven!']\n",
      "['She fair, divinely fair, fit love for Gods!']\n"
     ]
    }
   ],
   "source": [
    "# Positive sentences\n",
    "for i in pos_list:\n",
    "    print(sentence_list[i])"
   ]
  },
  {
   "cell_type": "markdown",
   "id": "e24b4b15",
   "metadata": {},
   "source": [
    "**Most Negative Sentences in Paradise Lost**"
   ]
  },
  {
   "cell_type": "code",
   "execution_count": 25,
   "id": "4374112d",
   "metadata": {},
   "outputs": [
    {
     "name": "stdout",
     "output_type": "stream",
     "text": [
      "['No!']\n",
      "['O Hell!']\n",
      "['Alas!']\n",
      "['Me miserable!']\n",
      "['Sad cure!']\n"
     ]
    }
   ],
   "source": [
    "# Negative sentences\n",
    "for i in neg_list:\n",
    "    print(sentence_list[i])"
   ]
  },
  {
   "cell_type": "markdown",
   "id": "df388d32",
   "metadata": {},
   "source": [
    "**Most Neutral Sentences in Paradise Lost**"
   ]
  },
  {
   "cell_type": "code",
   "execution_count": 26,
   "id": "5cf77d11",
   "metadata": {},
   "outputs": [
    {
     "name": "stdout",
     "output_type": "stream",
     "text": [
      "['[ The End ]\\x1a\\x1a']\n",
      "['Ah!']\n",
      "['When Adam thus to Eve.']\n",
      "['To whom the winged warriour thus returned.']\n",
      "['Hadst thou been firm and fixed in thy dissent, Neither had I transgressed, nor thou with me.']\n"
     ]
    }
   ],
   "source": [
    "# Neutral sentences\n",
    "for i in neu_list:\n",
    "    print(sentence_list[i])"
   ]
  },
  {
   "cell_type": "markdown",
   "id": "d9c08ff9",
   "metadata": {},
   "source": [
    "**5.\tExplain your findings from the previous question. Are the sentences and their sentiment analysis scores correct? Explain why or why not.** \n",
    "\n",
    "*you can pick another book in the Gutenberg Corpus if you’re feeling adventurous or curious.* "
   ]
  },
  {
   "cell_type": "markdown",
   "id": "426ea905",
   "metadata": {},
   "source": [
    "*Positive:*\n",
    "\n",
    "The first 4 sentences were 100% positive and the last was 84%. I am not at all surprised by the results of the first 4 sentences. This is because they were each extremely short, consisting of only two words (e.g. 'O' friends!'). Moreover, the specific words (friends and heaven) both have very positive connotations in the English language. So on their own, it makes sense that the whole sentence would be 100% positive. The last sentence, \"She fair, divinely fair, fit love for Gods!\" is also quite positive. \"fair,\" \"love,\" \"divine,\" and \"Gods,\" all have positive connotations in the English language, and the other words in the sentence are fairly neutral. Overall, unsurprising results. \n",
    "\n",
    "*Negative:*\n",
    "\n",
    "The first 3 sentences were 100% negative and the last two were 78% and 77%, respectively. Similarly to the positive results, the negative results comprised of extremely brief sentences. The first two, \"No!\" and \"O' Hell!\" are both firmly negative statements, so the 100% negative is unsurprising. Likewise, \"Alas!\" on its own would have a negative sentiment as well. I am surprised that the last statement \"sad cure!\" was in the top 5. \"Sad\" is clearly a negative word, but \"cure\" is quite positive. Considering there are only two words, I wouldn't have thought that \"sad\" would have had as strong of a weight. So that was interesting.  \n",
    "\n",
    "*Neutral:*\n",
    "\n",
    "All 4 sentences were 100% neutral. This result was definitely the most surprising to me! The first 3 sentences are fairly neutral, so that part makes sense. The 4th sentence contains \"winged\" (which could arguably be positive) and \"warriour\" (which could be negative or positive, depending on the context). As a whole, the sentence *does* feel fairly neutral, but I am just surprised it is 100%. The 4th sentence definitely does not seem neutral to me, so I am very surprised by that result. I wonder if the sentiment analysis does not do as well with old English, and perhaps that hinders the results. "
   ]
  }
 ],
 "metadata": {
  "kernelspec": {
   "display_name": "Python 3 (ipykernel)",
   "language": "python",
   "name": "python3"
  },
  "language_info": {
   "codemirror_mode": {
    "name": "ipython",
    "version": 3
   },
   "file_extension": ".py",
   "mimetype": "text/x-python",
   "name": "python",
   "nbconvert_exporter": "python",
   "pygments_lexer": "ipython3",
   "version": "3.9.7"
  }
 },
 "nbformat": 4,
 "nbformat_minor": 5
}
